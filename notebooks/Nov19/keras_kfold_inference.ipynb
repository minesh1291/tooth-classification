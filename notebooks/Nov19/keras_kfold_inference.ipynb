{
 "cells": [
  {
   "cell_type": "code",
   "execution_count": 16,
   "metadata": {},
   "outputs": [],
   "source": [
    "import glob\n",
    "import numpy as np\n",
    "import pandas as pd\n",
    "import matplotlib.pyplot as plt\n",
    "\n",
    "from sklearn.metrics import classification_report\n",
    "from skimage import exposure, feature\n",
    "import cv2\n",
    "\n",
    "import tensorflow as tf \n",
    "import tensorflow.keras as keras \n",
    "import tensorflow.keras.backend as K\n",
    "from tensorflow.keras.preprocessing.image import ImageDataGenerator\n",
    "import warnings\n",
    "import colorit\n",
    "import os\n",
    "\n",
    "os.environ['TF_CPP_MIN_LOG_LEVEL'] = '3'\n",
    "warnings.filterwarnings(\"ignore\")\n",
    "K.set_floatx('float32')"
   ]
  },
  {
   "cell_type": "code",
   "execution_count": 17,
   "metadata": {},
   "outputs": [],
   "source": [
    "TEST_DIR = \"../../InternsAssignment/xraysdatabase/\" # 0-class-1root/\"\n",
    "MODEL_DIR = \"./7_fold_models/\"\n",
    "IMG_SHAPE = (230, 130)\n",
    "NFOLDS = 5\n",
    "BATCH_SIZE = 32"
   ]
  },
  {
   "cell_type": "code",
   "execution_count": 18,
   "metadata": {},
   "outputs": [
    {
     "name": "stdout",
     "output_type": "stream",
     "text": [
      "-rw-r--r-- 1 jupyter jupyter 969K Nov 18 21:40 ./7_fold_models/fold_0_best_model.hdf5\n",
      "-rw-r--r-- 1 jupyter jupyter 969K Nov 18 21:46 ./7_fold_models/fold_1_best_model.hdf5\n",
      "-rw-r--r-- 1 jupyter jupyter 969K Nov 18 21:59 ./7_fold_models/fold_2_best_model.hdf5\n",
      "-rw-r--r-- 1 jupyter jupyter 969K Nov 18 22:02 ./7_fold_models/fold_3_best_model.hdf5\n",
      "-rw-r--r-- 1 jupyter jupyter 969K Nov 18 22:12 ./7_fold_models/fold_4_best_model.hdf5\n",
      "-rw-r--r-- 1 jupyter jupyter 969K Nov 18 22:27 ./7_fold_models/fold_5_best_model.hdf5\n",
      "-rw-r--r-- 1 jupyter jupyter 969K Nov 18 22:32 ./7_fold_models/fold_6_best_model.hdf5\n"
     ]
    }
   ],
   "source": [
    "!ls -lh {MODEL_DIR}*.hdf5"
   ]
  },
  {
   "cell_type": "code",
   "execution_count": 19,
   "metadata": {},
   "outputs": [],
   "source": [
    "# files = glob.glob(f'{TEST_DIR}/*/*.*')\n",
    "# datafiles_df = pd.DataFrame(files, columns=[\"filename\"])\n",
    "# datafiles_df[\"class\"] = [file.split(\"/\")[-2] for file in files]\n",
    "# datafiles_df[\"class\"].value_counts()"
   ]
  },
  {
   "cell_type": "code",
   "execution_count": 20,
   "metadata": {},
   "outputs": [],
   "source": [
    "datafiles_df = pd.read_csv(\"outputs/test.csv\", index_col=0)"
   ]
  },
  {
   "cell_type": "code",
   "execution_count": 21,
   "metadata": {},
   "outputs": [],
   "source": [
    "def equalize_hist(img):\n",
    "    img_eq = exposure.equalize_hist(img, nbins=150)\n",
    "    return img_eq\n",
    "\n",
    "def adp_thresh(img):\n",
    "    img = (img[:,:,0]*255).astype(np.uint8)\n",
    "    img = cv2.adaptiveThreshold(img, 255, cv2.ADAPTIVE_THRESH_GAUSSIAN_C, cv2.THRESH_BINARY, 131, 0)\n",
    "    return img\n",
    "\n",
    "def preprocessing_function(img):\n",
    "    img_processed = equalize_hist(img)\n",
    "    img_processed = np.expand_dims(adp_thresh(img_processed).astype(\"float32\")*1.0/255.0,2)\n",
    "    return img_processed\n",
    "\n",
    "test_datagen = ImageDataGenerator(rescale=1./255, \n",
    "                                  preprocessing_function=preprocessing_function)"
   ]
  },
  {
   "cell_type": "code",
   "execution_count": 22,
   "metadata": {},
   "outputs": [
    {
     "name": "stdout",
     "output_type": "stream",
     "text": [
      "Found 23 validated image filenames belonging to 2 classes.\n"
     ]
    }
   ],
   "source": [
    "generator = test_datagen.flow_from_dataframe(\n",
    "                datafiles_df,\n",
    "#                 directory=\"../\",\n",
    "                shuffle=False,\n",
    "                target_size=IMG_SHAPE,\n",
    "                batch_size=BATCH_SIZE,\n",
    "                color_mode=\"grayscale\",\n",
    "                class_mode='categorical')"
   ]
  },
  {
   "cell_type": "code",
   "execution_count": 24,
   "metadata": {},
   "outputs": [
    {
     "name": "stdout",
     "output_type": "stream",
     "text": [
      "WARNING:tensorflow:8 out of the last 8 calls to <function Model.make_predict_function.<locals>.predict_function at 0x7f1464455b90> triggered tf.function retracing. Tracing is expensive and the excessive number of tracings could be due to (1) creating @tf.function repeatedly in a loop, (2) passing tensors with different shapes, (3) passing Python objects instead of tensors. For (1), please define your @tf.function outside of the loop. For (2), @tf.function has experimental_relax_shapes=True option that relaxes argument shapes that can avoid unnecessary retracing. For (3), please refer to https://www.tensorflow.org/tutorials/customization/performance#python_or_tensor_args and https://www.tensorflow.org/api_docs/python/tf/function for  more details.\n",
      "WARNING:tensorflow:9 out of the last 9 calls to <function Model.make_predict_function.<locals>.predict_function at 0x7f13f4379050> triggered tf.function retracing. Tracing is expensive and the excessive number of tracings could be due to (1) creating @tf.function repeatedly in a loop, (2) passing tensors with different shapes, (3) passing Python objects instead of tensors. For (1), please define your @tf.function outside of the loop. For (2), @tf.function has experimental_relax_shapes=True option that relaxes argument shapes that can avoid unnecessary retracing. For (3), please refer to https://www.tensorflow.org/tutorials/customization/performance#python_or_tensor_args and https://www.tensorflow.org/api_docs/python/tf/function for  more details.\n",
      "WARNING:tensorflow:10 out of the last 10 calls to <function Model.make_predict_function.<locals>.predict_function at 0x7f13f43d6cb0> triggered tf.function retracing. Tracing is expensive and the excessive number of tracings could be due to (1) creating @tf.function repeatedly in a loop, (2) passing tensors with different shapes, (3) passing Python objects instead of tensors. For (1), please define your @tf.function outside of the loop. For (2), @tf.function has experimental_relax_shapes=True option that relaxes argument shapes that can avoid unnecessary retracing. For (3), please refer to https://www.tensorflow.org/tutorials/customization/performance#python_or_tensor_args and https://www.tensorflow.org/api_docs/python/tf/function for  more details.\n",
      "WARNING:tensorflow:11 out of the last 11 calls to <function Model.make_predict_function.<locals>.predict_function at 0x7f13f45e5560> triggered tf.function retracing. Tracing is expensive and the excessive number of tracings could be due to (1) creating @tf.function repeatedly in a loop, (2) passing tensors with different shapes, (3) passing Python objects instead of tensors. For (1), please define your @tf.function outside of the loop. For (2), @tf.function has experimental_relax_shapes=True option that relaxes argument shapes that can avoid unnecessary retracing. For (3), please refer to https://www.tensorflow.org/tutorials/customization/performance#python_or_tensor_args and https://www.tensorflow.org/api_docs/python/tf/function for  more details.\n",
      "WARNING:tensorflow:11 out of the last 11 calls to <function Model.make_predict_function.<locals>.predict_function at 0x7f13f4265320> triggered tf.function retracing. Tracing is expensive and the excessive number of tracings could be due to (1) creating @tf.function repeatedly in a loop, (2) passing tensors with different shapes, (3) passing Python objects instead of tensors. For (1), please define your @tf.function outside of the loop. For (2), @tf.function has experimental_relax_shapes=True option that relaxes argument shapes that can avoid unnecessary retracing. For (3), please refer to https://www.tensorflow.org/tutorials/customization/performance#python_or_tensor_args and https://www.tensorflow.org/api_docs/python/tf/function for  more details.\n",
      "WARNING:tensorflow:11 out of the last 11 calls to <function Model.make_predict_function.<locals>.predict_function at 0x7f13f41aef80> triggered tf.function retracing. Tracing is expensive and the excessive number of tracings could be due to (1) creating @tf.function repeatedly in a loop, (2) passing tensors with different shapes, (3) passing Python objects instead of tensors. For (1), please define your @tf.function outside of the loop. For (2), @tf.function has experimental_relax_shapes=True option that relaxes argument shapes that can avoid unnecessary retracing. For (3), please refer to https://www.tensorflow.org/tutorials/customization/performance#python_or_tensor_args and https://www.tensorflow.org/api_docs/python/tf/function for  more details.\n",
      "WARNING:tensorflow:11 out of the last 11 calls to <function Model.make_predict_function.<locals>.predict_function at 0x7f13f4126050> triggered tf.function retracing. Tracing is expensive and the excessive number of tracings could be due to (1) creating @tf.function repeatedly in a loop, (2) passing tensors with different shapes, (3) passing Python objects instead of tensors. For (1), please define your @tf.function outside of the loop. For (2), @tf.function has experimental_relax_shapes=True option that relaxes argument shapes that can avoid unnecessary retracing. For (3), please refer to https://www.tensorflow.org/tutorials/customization/performance#python_or_tensor_args and https://www.tensorflow.org/api_docs/python/tf/function for  more details.\n"
     ]
    }
   ],
   "source": [
    "pred = np.zeros((len(datafiles_df), 2))\n",
    "\n",
    "model_files = glob.glob(f\"{MODEL_DIR}*.hdf5\")\n",
    "\n",
    "with tf.device('/device:cpu:0'):\n",
    "    for model_file in model_files:\n",
    "        model = keras.models.load_model(model_file)\n",
    "\n",
    "        pred_ = model.predict(generator, batch_size=32)\n",
    "        pred += pred_ / len(model_files)\n",
    "        "
   ]
  },
  {
   "cell_type": "markdown",
   "metadata": {},
   "source": [
    "# Evaluation on Test Dataset"
   ]
  },
  {
   "cell_type": "code",
   "execution_count": 25,
   "metadata": {},
   "outputs": [
    {
     "name": "stdout",
     "output_type": "stream",
     "text": [
      "              precision    recall  f1-score   support\n",
      "\n",
      "           0       0.92      0.92      0.92        13\n",
      "           1       0.90      0.90      0.90        10\n",
      "\n",
      "    accuracy                           0.91        23\n",
      "   macro avg       0.91      0.91      0.91        23\n",
      "weighted avg       0.91      0.91      0.91        23\n",
      "\n"
     ]
    }
   ],
   "source": [
    "test = pd.get_dummies(datafiles_df[\"class\"]).values\n",
    "test_y = test[:,1]\n",
    "pred_y = pred.argmax(1)\n",
    "\n",
    "cr = classification_report(test_y, pred_y)\n",
    "print(cr)"
   ]
  },
  {
   "cell_type": "code",
   "execution_count": 26,
   "metadata": {},
   "outputs": [
    {
     "name": "stdout",
     "output_type": "stream",
     "text": [
      "\u001b[48;2;255;255;0mAccuracy: 0.91, 21/23\n",
      "Crossentropy 0.2972\u001b[0m\n"
     ]
    }
   ],
   "source": [
    "correct_classified = (test_y == pred_y).sum()\n",
    "total_samples = test_y.shape[0]\n",
    "print(colorit.color_back(\n",
    "    f\"Accuracy: {np.round(correct_classified/total_samples, 2)}, {correct_classified}/{total_samples}\\n\" \\\n",
    "    f\"Crossentropy {np.round(keras.metrics.categorical_crossentropy(test, pred).numpy().mean(), 4)}\",\n",
    "    255,255,0))\n"
   ]
  },
  {
   "cell_type": "code",
   "execution_count": null,
   "metadata": {},
   "outputs": [],
   "source": []
  }
 ],
 "metadata": {
  "environment": {
   "name": "tf2-2-3-gpu.2-3.m59",
   "type": "gcloud",
   "uri": "gcr.io/deeplearning-platform-release/tf2-2-3-gpu.2-3:m59"
  },
  "kernelspec": {
   "display_name": "Python 3",
   "language": "python",
   "name": "python3"
  },
  "language_info": {
   "codemirror_mode": {
    "name": "ipython",
    "version": 3
   },
   "file_extension": ".py",
   "mimetype": "text/x-python",
   "name": "python",
   "nbconvert_exporter": "python",
   "pygments_lexer": "ipython3",
   "version": "3.7.8"
  }
 },
 "nbformat": 4,
 "nbformat_minor": 4
}
